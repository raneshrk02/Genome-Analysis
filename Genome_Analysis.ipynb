{
  "nbformat": 4,
  "nbformat_minor": 0,
  "metadata": {
    "colab": {
      "provenance": [],
      "collapsed_sections": [
        "6lso7anTaGek",
        "cxPj78w3b-Zw",
        "1s9FfiShcBQl",
        "teCNS3-ccIbO",
        "mPoWlaJHcLgT"
      ]
    },
    "kernelspec": {
      "name": "python3",
      "display_name": "Python 3"
    },
    "language_info": {
      "name": "python"
    }
  },
  "cells": [
    {
      "cell_type": "markdown",
      "source": [
        "#Imports"
      ],
      "metadata": {
        "id": "W3T-dMNYudrm"
      }
    },
    {
      "cell_type": "code",
      "source": [
        "!pip install rdkit-pypi"
      ],
      "metadata": {
        "colab": {
          "base_uri": "https://localhost:8080/"
        },
        "id": "UFG7_61_fVip",
        "outputId": "d12fe708-ad03-4a57-837d-3e1e656002cd"
      },
      "execution_count": null,
      "outputs": [
        {
          "output_type": "stream",
          "name": "stdout",
          "text": [
            "Collecting rdkit-pypi\n",
            "  Downloading rdkit_pypi-2022.9.5-cp311-cp311-manylinux_2_17_x86_64.manylinux2014_x86_64.whl.metadata (3.9 kB)\n",
            "Requirement already satisfied: numpy in /usr/local/lib/python3.11/dist-packages (from rdkit-pypi) (1.26.4)\n",
            "Requirement already satisfied: Pillow in /usr/local/lib/python3.11/dist-packages (from rdkit-pypi) (11.1.0)\n",
            "Downloading rdkit_pypi-2022.9.5-cp311-cp311-manylinux_2_17_x86_64.manylinux2014_x86_64.whl (29.4 MB)\n",
            "\u001b[2K   \u001b[90m━━━━━━━━━━━━━━━━━━━━━━━━━━━━━━━━━━━━━━━━\u001b[0m \u001b[32m29.4/29.4 MB\u001b[0m \u001b[31m16.7 MB/s\u001b[0m eta \u001b[36m0:00:00\u001b[0m\n",
            "\u001b[?25hInstalling collected packages: rdkit-pypi\n",
            "Successfully installed rdkit-pypi-2022.9.5\n"
          ]
        }
      ]
    },
    {
      "cell_type": "code",
      "source": [
        "!pip install torch torchvision"
      ],
      "metadata": {
        "colab": {
          "base_uri": "https://localhost:8080/"
        },
        "id": "muqu4g_Mfcke",
        "outputId": "5dfa366e-ca73-4bbc-d047-7b593646bfd9"
      },
      "execution_count": null,
      "outputs": [
        {
          "output_type": "stream",
          "name": "stdout",
          "text": [
            "Requirement already satisfied: torch in /usr/local/lib/python3.11/dist-packages (2.5.1+cu121)\n",
            "Requirement already satisfied: torchvision in /usr/local/lib/python3.11/dist-packages (0.20.1+cu121)\n",
            "Requirement already satisfied: filelock in /usr/local/lib/python3.11/dist-packages (from torch) (3.16.1)\n",
            "Requirement already satisfied: typing-extensions>=4.8.0 in /usr/local/lib/python3.11/dist-packages (from torch) (4.12.2)\n",
            "Requirement already satisfied: networkx in /usr/local/lib/python3.11/dist-packages (from torch) (3.4.2)\n",
            "Requirement already satisfied: jinja2 in /usr/local/lib/python3.11/dist-packages (from torch) (3.1.5)\n",
            "Requirement already satisfied: fsspec in /usr/local/lib/python3.11/dist-packages (from torch) (2024.10.0)\n",
            "Requirement already satisfied: nvidia-cuda-nvrtc-cu12==12.1.105 in /usr/local/lib/python3.11/dist-packages (from torch) (12.1.105)\n",
            "Requirement already satisfied: nvidia-cuda-runtime-cu12==12.1.105 in /usr/local/lib/python3.11/dist-packages (from torch) (12.1.105)\n",
            "Requirement already satisfied: nvidia-cuda-cupti-cu12==12.1.105 in /usr/local/lib/python3.11/dist-packages (from torch) (12.1.105)\n",
            "Requirement already satisfied: nvidia-cudnn-cu12==9.1.0.70 in /usr/local/lib/python3.11/dist-packages (from torch) (9.1.0.70)\n",
            "Requirement already satisfied: nvidia-cublas-cu12==12.1.3.1 in /usr/local/lib/python3.11/dist-packages (from torch) (12.1.3.1)\n",
            "Requirement already satisfied: nvidia-cufft-cu12==11.0.2.54 in /usr/local/lib/python3.11/dist-packages (from torch) (11.0.2.54)\n",
            "Requirement already satisfied: nvidia-curand-cu12==10.3.2.106 in /usr/local/lib/python3.11/dist-packages (from torch) (10.3.2.106)\n",
            "Requirement already satisfied: nvidia-cusolver-cu12==11.4.5.107 in /usr/local/lib/python3.11/dist-packages (from torch) (11.4.5.107)\n",
            "Requirement already satisfied: nvidia-cusparse-cu12==12.1.0.106 in /usr/local/lib/python3.11/dist-packages (from torch) (12.1.0.106)\n",
            "Requirement already satisfied: nvidia-nccl-cu12==2.21.5 in /usr/local/lib/python3.11/dist-packages (from torch) (2.21.5)\n",
            "Requirement already satisfied: nvidia-nvtx-cu12==12.1.105 in /usr/local/lib/python3.11/dist-packages (from torch) (12.1.105)\n",
            "Requirement already satisfied: triton==3.1.0 in /usr/local/lib/python3.11/dist-packages (from torch) (3.1.0)\n",
            "Requirement already satisfied: sympy==1.13.1 in /usr/local/lib/python3.11/dist-packages (from torch) (1.13.1)\n",
            "Requirement already satisfied: nvidia-nvjitlink-cu12 in /usr/local/lib/python3.11/dist-packages (from nvidia-cusolver-cu12==11.4.5.107->torch) (12.6.85)\n",
            "Requirement already satisfied: mpmath<1.4,>=1.1.0 in /usr/local/lib/python3.11/dist-packages (from sympy==1.13.1->torch) (1.3.0)\n",
            "Requirement already satisfied: numpy in /usr/local/lib/python3.11/dist-packages (from torchvision) (1.26.4)\n",
            "Requirement already satisfied: pillow!=8.3.*,>=5.3.0 in /usr/local/lib/python3.11/dist-packages (from torchvision) (11.1.0)\n",
            "Requirement already satisfied: MarkupSafe>=2.0 in /usr/local/lib/python3.11/dist-packages (from jinja2->torch) (3.0.2)\n"
          ]
        }
      ]
    },
    {
      "cell_type": "code",
      "source": [
        "!pip install -q torch-scatter torch-sparse torch-cluster torch-spline-conv -f https://data.pyg.org/whl/torch-2.0.1+cpu.html\n",
        "\n",
        "!pip install -q torch-geometric"
      ],
      "metadata": {
        "id": "ag_FGe2mffID",
        "colab": {
          "base_uri": "https://localhost:8080/"
        },
        "outputId": "3a9cc2fa-1380-4411-be62-168261c89ed0"
      },
      "execution_count": null,
      "outputs": [
        {
          "output_type": "stream",
          "name": "stdout",
          "text": [
            "\u001b[2K     \u001b[90m━━━━━━━━━━━━━━━━━━━━━━━━━━━━━━━━━━━━━━━━\u001b[0m \u001b[32m494.0/494.0 kB\u001b[0m \u001b[31m2.7 MB/s\u001b[0m eta \u001b[36m0:00:00\u001b[0m\n",
            "\u001b[2K     \u001b[90m━━━━━━━━━━━━━━━━━━━━━━━━━━━━━━━━━━━━━━━━\u001b[0m \u001b[32m1.2/1.2 MB\u001b[0m \u001b[31m9.1 MB/s\u001b[0m eta \u001b[36m0:00:00\u001b[0m\n",
            "\u001b[2K     \u001b[90m━━━━━━━━━━━━━━━━━━━━━━━━━━━━━━━━━━━━━━━━\u001b[0m \u001b[32m750.9/750.9 kB\u001b[0m \u001b[31m10.1 MB/s\u001b[0m eta \u001b[36m0:00:00\u001b[0m\n",
            "\u001b[2K     \u001b[90m━━━━━━━━━━━━━━━━━━━━━━━━━━━━━━━━━━━━━━━━\u001b[0m \u001b[32m208.1/208.1 kB\u001b[0m \u001b[31m1.2 MB/s\u001b[0m eta \u001b[36m0:00:00\u001b[0m\n",
            "\u001b[2K     \u001b[90m━━━━━━━━━━━━━━━━━━━━━━━━━━━━━━━━━━━━━━━━\u001b[0m \u001b[32m63.1/63.1 kB\u001b[0m \u001b[31m1.7 MB/s\u001b[0m eta \u001b[36m0:00:00\u001b[0m\n",
            "\u001b[2K   \u001b[90m━━━━━━━━━━━━━━━━━━━━━━━━━━━━━━━━━━━━━━━━\u001b[0m \u001b[32m1.1/1.1 MB\u001b[0m \u001b[31m18.8 MB/s\u001b[0m eta \u001b[36m0:00:00\u001b[0m\n",
            "\u001b[?25h"
          ]
        }
      ]
    },
    {
      "cell_type": "code",
      "execution_count": null,
      "metadata": {
        "id": "gH2XiqodSJFP",
        "colab": {
          "base_uri": "https://localhost:8080/"
        },
        "outputId": "3aa60736-3def-4416-8212-b74312892fc2"
      },
      "outputs": [
        {
          "output_type": "stream",
          "name": "stderr",
          "text": [
            "/usr/local/lib/python3.11/dist-packages/torch_geometric/typing.py:86: UserWarning: An issue occurred while importing 'torch-scatter'. Disabling its usage. Stacktrace: /usr/local/lib/python3.11/dist-packages/torch_scatter/_version_cpu.so: undefined symbol: _ZN3c1017RegisterOperatorsD1Ev\n",
            "  warnings.warn(f\"An issue occurred while importing 'torch-scatter'. \"\n",
            "/usr/local/lib/python3.11/dist-packages/torch_geometric/typing.py:97: UserWarning: An issue occurred while importing 'torch-cluster'. Disabling its usage. Stacktrace: /usr/local/lib/python3.11/dist-packages/torch_cluster/_version_cpu.so: undefined symbol: _ZN3c1017RegisterOperatorsD1Ev\n",
            "  warnings.warn(f\"An issue occurred while importing 'torch-cluster'. \"\n",
            "/usr/local/lib/python3.11/dist-packages/torch_geometric/typing.py:113: UserWarning: An issue occurred while importing 'torch-spline-conv'. Disabling its usage. Stacktrace: /usr/local/lib/python3.11/dist-packages/torch_spline_conv/_version_cpu.so: undefined symbol: _ZN3c1017RegisterOperatorsD1Ev\n",
            "  warnings.warn(\n",
            "/usr/local/lib/python3.11/dist-packages/torch_geometric/typing.py:124: UserWarning: An issue occurred while importing 'torch-sparse'. Disabling its usage. Stacktrace: /usr/local/lib/python3.11/dist-packages/torch_sparse/_version_cpu.so: undefined symbol: _ZN3c1017RegisterOperatorsD1Ev\n",
            "  warnings.warn(f\"An issue occurred while importing 'torch-sparse'. \"\n"
          ]
        }
      ],
      "source": [
        "import pandas as pd\n",
        "import numpy as np\n",
        "import torch\n",
        "import torch.nn as nn\n",
        "import torch.optim as optim\n",
        "from torch.utils.data import Dataset, DataLoader\n",
        "from sklearn.model_selection import train_test_split\n",
        "from sklearn.preprocessing import StandardScaler\n",
        "from rdkit import Chem\n",
        "from rdkit.Chem import AllChem, Descriptors\n",
        "from torch_geometric.nn import GINConv, global_mean_pool, global_add_pool\n",
        "from torch_geometric.data import Data, Batch\n",
        "from torch_geometric.data import DataLoader as GeoDataLoader\n",
        "from torch.utils.data import random_split\n",
        "import matplotlib.pyplot as plt"
      ]
    },
    {
      "cell_type": "code",
      "source": [
        "import torch.nn.functional as F"
      ],
      "metadata": {
        "id": "j6ZLzPAjImrk"
      },
      "execution_count": null,
      "outputs": []
    },
    {
      "cell_type": "code",
      "source": [
        "from torch_geometric.data import Batch\n",
        "import json"
      ],
      "metadata": {
        "id": "P7PfDo7DYzkN"
      },
      "execution_count": null,
      "outputs": []
    },
    {
      "cell_type": "markdown",
      "source": [
        "#Data Preprocessing\n",
        "\n"
      ],
      "metadata": {
        "id": "6lso7anTaGek"
      }
    },
    {
      "cell_type": "code",
      "source": [
        "def preprocess_genomic_data(file_path, feature_list):\n",
        "    genomic_data = pd.read_csv(file_path)\n",
        "\n",
        "    genomic_data_filtered = genomic_data[feature_list]\n",
        "\n",
        "    scaler = StandardScaler()\n",
        "    genomic_data_normalized = scaler.fit_transform(genomic_data_filtered)\n",
        "\n",
        "    return genomic_data_normalized, scaler"
      ],
      "metadata": {
        "id": "9DGPoB-ZSCn7"
      },
      "execution_count": null,
      "outputs": []
    },
    {
      "cell_type": "code",
      "source": [
        "from sklearn.preprocessing import MinMaxScaler\n",
        "def smiles_to_graph(smiles, pIC50):\n",
        "    mol = Chem.MolFromSmiles(smiles)\n",
        "    if mol is None:\n",
        "        return None\n",
        "\n",
        "    atom_features = []\n",
        "    for atom in mol.GetAtoms():\n",
        "        atom_features.append(atom.GetAtomicNum())\n",
        "\n",
        "    edge_indices = []\n",
        "    for bond in mol.GetBonds():\n",
        "        edge_indices.append([bond.GetBeginAtomIdx(), bond.GetEndAtomIdx()])\n",
        "        edge_indices.append([bond.GetEndAtomIdx(), bond.GetBeginAtomIdx()])\n",
        "\n",
        "    atom_features = torch.tensor(atom_features, dtype=torch.float).view(-1, 1)\n",
        "    edge_indices = torch.tensor(edge_indices, dtype=torch.long).t().contiguous()\n",
        "\n",
        "    data = Data(x=atom_features, edge_index=edge_indices, y=pIC50)\n",
        "    return data\n",
        "\n",
        "def preprocess_drug_data(file_path):\n",
        "    drug_data = pd.read_csv(file_path, sep=',')\n",
        "\n",
        "    drug_data['pIC50'].fillna(drug_data['pIC50'].mean(), inplace=True)\n",
        "\n",
        "    scaler = MinMaxScaler()\n",
        "    drug_data['pIC50'] = scaler.fit_transform(drug_data[['pIC50']])\n",
        "\n",
        "    drug_graphs = []\n",
        "    for idx, row in drug_data.iterrows():\n",
        "        graph = smiles_to_graph(row['SMILES'], row['pIC50'])\n",
        "        if graph is not None:\n",
        "            drug_graphs.append(graph)\n",
        "\n",
        "    return drug_graphs"
      ],
      "metadata": {
        "id": "cAwpD395SYpp"
      },
      "execution_count": null,
      "outputs": []
    },
    {
      "cell_type": "code",
      "source": [
        "class GenomicDataset(Dataset):\n",
        "    def __init__(self, genomic_data):\n",
        "        \"\"\"\n",
        "        Dataset for genomic data.\n",
        "        \"\"\"\n",
        "        self.genomic_data = genomic_data\n",
        "\n",
        "    def __len__(self):\n",
        "        return len(self.genomic_data)\n",
        "\n",
        "    def __getitem__(self, idx):\n",
        "        return torch.tensor(self.genomic_data[idx], dtype=torch.float)\n",
        "\n",
        "\n",
        "class DrugDataset(Dataset):\n",
        "    def __init__(self, drug_graphs):\n",
        "        self.drug_graphs = drug_graphs\n",
        "\n",
        "    def __len__(self):\n",
        "        return len(self.drug_graphs)\n",
        "\n",
        "    def __getitem__(self, idx):\n",
        "        return self.drug_graphs[idx]\n",
        "\n",
        "\n",
        "def genomic_collate_fn(batch):\n",
        "    genomic_features = torch.stack(batch)\n",
        "    return genomic_features\n",
        "\n",
        "\n",
        "def drug_collate_fn(batch):\n",
        "    drug_graphs = GeoDataLoader(batch, batch_size=len(batch), shuffle=False)\n",
        "    return next(iter(drug_graphs))\n",
        "\n",
        "\n",
        "def create_genomic_dataloader(genomic_data, batch_size=32):\n",
        "    dataset = GenomicDataset(genomic_data)\n",
        "    return torch.utils.data.DataLoader(dataset, batch_size=batch_size, shuffle=True, collate_fn=genomic_collate_fn)\n",
        "\n",
        "\n",
        "def create_drug_dataloader(drug_graphs, batch_size=32):\n",
        "    dataset = DrugDataset(drug_graphs)\n",
        "    return torch.utils.data.DataLoader(dataset, batch_size=batch_size, shuffle=True, collate_fn=drug_collate_fn)"
      ],
      "metadata": {
        "id": "4pdCmZOcSkfF"
      },
      "execution_count": null,
      "outputs": []
    },
    {
      "cell_type": "code",
      "source": [
        "genomic_features = [\n",
        "        'cn_CEACAM6', 'cn_CD79A', 'cn_ATP1A3', 'cn_KCNN4', 'cn_CBLC',\n",
        "        'cn_FOSB', 'cn_FOXA3', 'cn_KCNC3', 'cn_SPIB',\n",
        "        'cn_KLK6', 'cn_KLK7', 'cn_KLK8', 'cn_KLK10', 'cn_KLK11', 'cn_KLK12', 'cn_KLK13', 'cn_KLK14',\n",
        "        'cn_HAS1', 'cn_NLRP7', 'cn_TNNT1', 'cn_TNNI3', 'cn_SYT5', 'cn_COX6B2',\n",
        "        'cn_NLRP5', 'cn_PEG3', 'cn_ZSCAN1', 'cn_DEFB132', 'cn_RSPO4',\n",
        "        'cn_SIRPG', 'cn_TGM3', 'cn_ADAM33', 'cn_SPEF1', 'cn_PRND',\n",
        "        'cn_CHGB', 'cn_FERMT1', 'cn_PAK7', 'cn_SNAP25', 'cn_FLRT3',\n",
        "        'cn_PCSK2', 'cn_PTPRT', 'cn_BCAS1', 'cn_CYP24A1', 'cn_BMP7',\n",
        "        'cn_PCK1', 'cn_ZBP1', 'cn_ZNF831', 'cn_EDN3',\n",
        "        'mu_ATP10B', 'mu_FAT1', 'mu_FBN3', 'mu_FAT2', 'mu_MTOR',\n",
        "        'mu_MDN1', 'mu_MXRA5', 'mu_MAP3K1',\n",
        "        'mu_PTEN', 'mu_PIK3CA', 'mu_PCDH19',\n",
        "        'mu_PLXNA4', 'mu_PTPRD', 'mu_PLCE1', 'mu_PCNT', 'mu_PCLO',\n",
        "        'mu_PDE4DIP', 'mu_PKD1L1', 'mu_PCNXL2', 'mu_PRKDC', 'mu_PREX2'\n",
        "]\n",
        "\n",
        "genomic_file = \"/content/drive/MyDrive/hackwar/genomic_data.csv\"\n",
        "drug_file = \"/content/drive/MyDrive/hackwar/drug_data.csv\"\n",
        "\n",
        "genomic_data, genomic_scaler = preprocess_genomic_data(genomic_file, genomic_features)\n",
        "drug_graphs = preprocess_drug_data(drug_file)\n",
        "print(\"Genomic Data Shape:\", genomic_data.shape)\n",
        "\n",
        "batch_size = 64\n",
        "genomic_dataloader = create_genomic_dataloader(genomic_data, batch_size=batch_size)\n",
        "drug_dataloader = create_drug_dataloader(drug_graphs, batch_size=batch_size)\n",
        "\n",
        "for genomic_batch in genomic_dataloader:\n",
        "    print(\"Genomic Batch Shape:\", genomic_batch.shape)\n",
        "    break\n",
        "\n",
        "for drug_batch in drug_dataloader:\n",
        "    print(\"Drug Batch:\", drug_batch)\n",
        "    break"
      ],
      "metadata": {
        "colab": {
          "base_uri": "https://localhost:8080/"
        },
        "id": "6J0jWc5ZSocl",
        "outputId": "2d182a07-9536-4d17-ff26-1ad6f23172fb"
      },
      "execution_count": null,
      "outputs": [
        {
          "output_type": "stream",
          "name": "stderr",
          "text": [
            "<ipython-input-15-d82cef786b20>:25: FutureWarning: A value is trying to be set on a copy of a DataFrame or Series through chained assignment using an inplace method.\n",
            "The behavior will change in pandas 3.0. This inplace method will never work because the intermediate object on which we are setting values always behaves as a copy.\n",
            "\n",
            "For example, when doing 'df[col].method(value, inplace=True)', try using 'df.method({col: value}, inplace=True)' or df[col] = df[col].method(value) instead, to perform the operation inplace on the original object.\n",
            "\n",
            "\n",
            "  drug_data['pIC50'].fillna(drug_data['pIC50'].mean(), inplace=True)\n"
          ]
        },
        {
          "output_type": "stream",
          "name": "stdout",
          "text": [
            "Genomic Data Shape: (705, 68)\n",
            "Genomic Batch Shape: torch.Size([64, 68])\n",
            "Drug Batch: DataBatch(x=[1106, 1], edge_index=[2, 2330], y=[64], batch=[1106], ptr=[65])\n"
          ]
        }
      ]
    },
    {
      "cell_type": "markdown",
      "source": [
        "#Model Architecture"
      ],
      "metadata": {
        "id": "cxPj78w3b-Zw"
      }
    },
    {
      "cell_type": "code",
      "source": [
        "class DrugGNN(nn.Module):\n",
        "    def __init__(self, node_features, hidden_dim):\n",
        "        super(DrugGNN, self).__init__()\n",
        "        self.conv1 = GINConv(\n",
        "            nn.Sequential(\n",
        "                nn.Linear(node_features, hidden_dim * 2),\n",
        "                nn.BatchNorm1d(hidden_dim * 2),\n",
        "                nn.ReLU(),\n",
        "                nn.Linear(hidden_dim * 2, hidden_dim * 2)\n",
        "            )\n",
        "        )\n",
        "        self.conv2 = GINConv(\n",
        "            nn.Sequential(\n",
        "                nn.Linear(hidden_dim * 2, hidden_dim * 2),\n",
        "                nn.BatchNorm1d(hidden_dim * 2),\n",
        "                nn.ReLU(),\n",
        "                nn.Linear(hidden_dim * 2, hidden_dim * 2)\n",
        "            )\n",
        "        )\n",
        "        self.conv3 = GINConv(\n",
        "            nn.Sequential(\n",
        "                nn.Linear(hidden_dim * 2, hidden_dim),\n",
        "                nn.BatchNorm1d(hidden_dim),\n",
        "                nn.ReLU(),\n",
        "                nn.Linear(hidden_dim, hidden_dim)\n",
        "            )\n",
        "        )\n",
        "\n",
        "        self.bn1 = nn.BatchNorm1d(hidden_dim * 2)\n",
        "        self.bn2 = nn.BatchNorm1d(hidden_dim * 2)\n",
        "        self.bn3 = nn.BatchNorm1d(hidden_dim)\n",
        "\n",
        "        self.attention = nn.Sequential(\n",
        "            nn.Linear(hidden_dim, hidden_dim),\n",
        "            nn.Tanh(),\n",
        "            nn.Linear(hidden_dim, 1)\n",
        "        )\n",
        "\n",
        "        self.dropout = nn.Dropout(0.3)\n",
        "\n",
        "    def forward(self, data):\n",
        "        x, edge_index, batch = data.x, data.edge_index, data.batch\n",
        "\n",
        "        x = self.conv1(x, edge_index)\n",
        "        x = self.bn1(x)\n",
        "        x = F.relu(x)\n",
        "        x = self.dropout(x)\n",
        "\n",
        "        x = self.conv2(x, edge_index)\n",
        "        x = self.bn2(x)\n",
        "        x = F.relu(x)\n",
        "        x = self.dropout(x)\n",
        "\n",
        "        x = self.conv3(x, edge_index)\n",
        "        x = self.bn3(x)\n",
        "        x = F.relu(x)\n",
        "\n",
        "        attention_weights = self.attention(x)\n",
        "        attention_weights = torch.softmax(attention_weights, dim=0)\n",
        "        x = x * attention_weights\n",
        "        x = global_add_pool(x, batch)\n",
        "\n",
        "        return x"
      ],
      "metadata": {
        "id": "QgcW1Fnzii4E"
      },
      "execution_count": null,
      "outputs": []
    },
    {
      "cell_type": "code",
      "source": [
        "class GenomicNet(nn.Module):\n",
        "    def __init__(self, input_dim, hidden_dim):\n",
        "        super(GenomicNet, self).__init__()\n",
        "        self.layers = nn.Sequential(\n",
        "            nn.Linear(input_dim, hidden_dim * 4),\n",
        "            nn.LayerNorm(hidden_dim * 4),\n",
        "            nn.ReLU(),\n",
        "            nn.Dropout(0.3),\n",
        "\n",
        "            nn.Linear(hidden_dim * 4, hidden_dim * 2),\n",
        "            nn.LayerNorm(hidden_dim * 2),\n",
        "            nn.ReLU(),\n",
        "            nn.Dropout(0.3),\n",
        "\n",
        "            nn.Linear(hidden_dim * 2, hidden_dim),\n",
        "            nn.BatchNorm1d(hidden_dim),\n",
        "            nn.ReLU(),\n",
        "        )\n",
        "        self.final_layer = nn.Linear(hidden_dim, hidden_dim // 2)\n",
        "\n",
        "    def forward(self, x):\n",
        "        return self.layers(x)"
      ],
      "metadata": {
        "id": "-U3CdkGQR81G"
      },
      "execution_count": null,
      "outputs": []
    },
    {
      "cell_type": "code",
      "source": [
        "class MultiTaskModel(nn.Module):\n",
        "    def __init__(self, node_features, genomic_dim, hidden_dim=256):\n",
        "        super(MultiTaskModel, self).__init__()\n",
        "\n",
        "        self.drug_gnn = DrugGNN(node_features, hidden_dim)\n",
        "        self.genomic_net = GenomicNet(genomic_dim, hidden_dim)\n",
        "\n",
        "        self.shared_layers = nn.ModuleList([\n",
        "            nn.Sequential(\n",
        "                nn.Linear(hidden_dim * 2, hidden_dim * 2),\n",
        "                nn.LayerNorm(hidden_dim * 2),\n",
        "                nn.ReLU(),\n",
        "                nn.Dropout(0.2)\n",
        "            ) for _ in range(3)\n",
        "        ])\n",
        "\n",
        "        self.drug_head = nn.Sequential(\n",
        "            nn.Linear(hidden_dim * 2, hidden_dim),\n",
        "            nn.LayerNorm(hidden_dim),\n",
        "            nn.ReLU(),\n",
        "            nn.Dropout(0.2),\n",
        "            nn.Linear(hidden_dim, hidden_dim // 2),\n",
        "            nn.ReLU(),\n",
        "            nn.Linear(hidden_dim // 2, 1),\n",
        "            nn.Tanh()\n",
        "        )\n",
        "\n",
        "        self.genomic_head = nn.Sequential(\n",
        "            nn.Linear(hidden_dim * 2, hidden_dim),\n",
        "            nn.LayerNorm(hidden_dim),\n",
        "            nn.ReLU(),\n",
        "            nn.Dropout(0.2),\n",
        "            nn.Linear(hidden_dim, hidden_dim // 2),\n",
        "            nn.ReLU(),\n",
        "            nn.Linear(hidden_dim // 2, 1),\n",
        "            nn.Tanh()\n",
        "        )\n",
        "\n",
        "    def forward(self, drug_data, genomic_data):\n",
        "        drug_features = self.drug_gnn(drug_data)\n",
        "        genomic_features = self.genomic_net(genomic_data)\n",
        "\n",
        "        combined = torch.cat((drug_features, genomic_features), dim=1)\n",
        "\n",
        "        x = combined\n",
        "        for layer in self.shared_layers:\n",
        "            x = layer(x) + x\n",
        "\n",
        "        drug_pred = self.drug_head(x)\n",
        "        genomic_pred = self.genomic_head(x)\n",
        "\n",
        "        return drug_pred, genomic_pred"
      ],
      "metadata": {
        "id": "x05Jqax7SANC"
      },
      "execution_count": null,
      "outputs": []
    },
    {
      "cell_type": "markdown",
      "source": [
        "#Model Training"
      ],
      "metadata": {
        "id": "1s9FfiShcBQl"
      }
    },
    {
      "cell_type": "code",
      "source": [
        "node_features = drug_graphs[0].x.size(1)\n",
        "genomic_dim = genomic_data.shape[1]\n",
        "hidden_dim = 256\n",
        "\n",
        "model = MultiTaskModel(node_features=node_features, genomic_dim=genomic_dim, hidden_dim=hidden_dim)\n",
        "device = torch.device(\"cuda\" if torch.cuda.is_available() else \"cpu\")\n",
        "model = model.to(device)\n",
        "\n",
        "drug_criterion = nn.MSELoss()\n",
        "genomic_criterion = nn.SmoothL1Loss()\n",
        "optimizer = optim.Adam(model.parameters(), lr=0.001, weight_decay=1e-4)\n",
        "\n",
        "scheduler = torch.optim.lr_scheduler.ReduceLROnPlateau(optimizer, 'min', patience=5, factor=0.5, verbose=True)\n",
        "\n",
        "def split_dataloader(dataloader, split_ratios):\n",
        "    dataset = dataloader.dataset\n",
        "    train_len = int(split_ratios[0] * len(dataset))\n",
        "    val_len = int(split_ratios[1] * len(dataset))\n",
        "    test_len = len(dataset) - train_len - val_len\n",
        "    train_data, val_data, test_data = random_split(dataset, [train_len, val_len, test_len])\n",
        "\n",
        "    train_loader = GeoDataLoader(train_data, batch_size=dataloader.batch_size, shuffle=True)\n",
        "    val_loader = GeoDataLoader(val_data, batch_size=dataloader.batch_size, shuffle=False)\n",
        "    test_loader = GeoDataLoader(test_data, batch_size=dataloader.batch_size, shuffle=False)\n",
        "\n",
        "    return train_loader, val_loader, test_loader\n",
        "\n",
        "genomic_train_loader, genomic_val_loader, genomic_test_loader = split_dataloader(genomic_dataloader, [0.7, 0.15, 0.15])\n",
        "drug_train_loader, drug_val_loader, drug_test_loader = split_dataloader(drug_dataloader, [0.7, 0.15, 0.15])\n",
        "\n",
        "import matplotlib.pyplot as plt\n",
        "\n",
        "def train_and_validate(model, genomic_train_loader, drug_train_loader, genomic_val_loader, drug_val_loader, device, num_epochs):\n",
        "    optimizer = optim.AdamW(model.parameters(), lr=0.001, weight_decay=0.01)\n",
        "    scheduler = torch.optim.lr_scheduler.ReduceLROnPlateau(optimizer, mode='min', factor=0.5, patience=5, verbose=True)\n",
        "\n",
        "    drug_criterion = nn.MSELoss()\n",
        "    genomic_criterion = nn.MSELoss()\n",
        "\n",
        "    best_val_loss = float('inf')\n",
        "\n",
        "    train_losses = []\n",
        "    val_losses = []\n",
        "\n",
        "    for epoch in range(num_epochs):\n",
        "        model.train()\n",
        "        train_loss = 0.0\n",
        "\n",
        "        for batch_idx, (genomic_batch, drug_batch) in enumerate(zip(genomic_train_loader, drug_train_loader)):\n",
        "            batch_size = min(genomic_batch.size(0), drug_batch.size(0))\n",
        "            genomic_batch = genomic_batch[:batch_size].to(device)\n",
        "            drug_batch = Batch.from_data_list(drug_batch[:batch_size]).to(device)\n",
        "\n",
        "            optimizer.zero_grad()\n",
        "\n",
        "            drug_pred, genomic_pred = model(drug_batch, genomic_batch)\n",
        "\n",
        "            drug_loss = drug_criterion(drug_pred, drug_batch.y)\n",
        "            genomic_loss = genomic_criterion(genomic_pred, genomic_batch)\n",
        "\n",
        "            loss = drug_loss * 0.6 + genomic_loss * 0.4\n",
        "\n",
        "            loss.backward()\n",
        "            torch.nn.utils.clip_grad_norm_(model.parameters(), 1.0)\n",
        "            optimizer.step()\n",
        "\n",
        "            train_loss += loss.item()\n",
        "\n",
        "        avg_train_loss = train_loss / len(genomic_train_loader)\n",
        "        train_losses.append(avg_train_loss)\n",
        "\n",
        "        model.eval()\n",
        "        val_loss = 0.0\n",
        "        with torch.no_grad():\n",
        "            for genomic_batch, drug_batch in zip(genomic_val_loader, drug_val_loader):\n",
        "                batch_size = min(genomic_batch.size(0), drug_batch.size(0))\n",
        "                genomic_batch = genomic_batch[:batch_size].to(device)\n",
        "                drug_batch = Batch.from_data_list(drug_batch[:batch_size]).to(device)\n",
        "\n",
        "                drug_pred, genomic_pred = model(drug_batch, genomic_batch)\n",
        "\n",
        "                drug_loss = drug_criterion(drug_pred, drug_batch.y)\n",
        "                genomic_loss = genomic_criterion(genomic_pred, genomic_batch)\n",
        "                loss = drug_loss * 0.6 + genomic_loss * 0.4\n",
        "                val_loss += loss.item()\n",
        "\n",
        "        avg_val_loss = val_loss / len(genomic_val_loader)\n",
        "        val_losses.append(avg_val_loss)\n",
        "\n",
        "        scheduler.step(avg_val_loss)\n",
        "\n",
        "        print(f\"Epoch {epoch+1}/{num_epochs}, Train Loss: {avg_train_loss:.4f}, \"\n",
        "              f\"Val Loss: {avg_val_loss:.4f}\")\n",
        "\n",
        "    # Plot the losses\n",
        "    plt.figure(figsize=(10, 6))\n",
        "    plt.plot(range(1, num_epochs + 1), train_losses, label='Train Loss')\n",
        "    plt.plot(range(1, num_epochs + 1), val_losses, label='Validation Loss')\n",
        "    plt.xlabel('Epochs')\n",
        "    plt.ylabel('Loss')\n",
        "    plt.title('Training and Validation Loss')\n",
        "    plt.legend()\n",
        "    plt.show()\n",
        "\n",
        "train_and_validate(model, genomic_train_loader, drug_train_loader, genomic_val_loader, drug_val_loader, device, num_epochs=50)"
      ],
      "metadata": {
        "colab": {
          "base_uri": "https://localhost:8080/",
          "height": 1000
        },
        "id": "3cuYwBQ7aRIL",
        "outputId": "fba07de0-c932-4f1e-a139-8c80b320bed7"
      },
      "execution_count": null,
      "outputs": [
        {
          "output_type": "stream",
          "name": "stderr",
          "text": [
            "/usr/local/lib/python3.11/dist-packages/torch/optim/lr_scheduler.py:62: UserWarning: The verbose parameter is deprecated. Please use get_last_lr() to access the learning rate.\n",
            "  warnings.warn(\n",
            "/usr/local/lib/python3.11/dist-packages/torch_geometric/deprecation.py:26: UserWarning: 'data.DataLoader' is deprecated, use 'loader.DataLoader' instead\n",
            "  warnings.warn(out)\n",
            "/usr/local/lib/python3.11/dist-packages/torch/nn/modules/loss.py:608: UserWarning: Using a target size (torch.Size([64])) that is different to the input size (torch.Size([64, 1])). This will likely lead to incorrect results due to broadcasting. Please ensure they have the same size.\n",
            "  return F.mse_loss(input, target, reduction=self.reduction)\n",
            "/usr/local/lib/python3.11/dist-packages/torch/nn/modules/loss.py:608: UserWarning: Using a target size (torch.Size([64, 68])) that is different to the input size (torch.Size([64, 1])). This will likely lead to incorrect results due to broadcasting. Please ensure they have the same size.\n",
            "  return F.mse_loss(input, target, reduction=self.reduction)\n",
            "/usr/local/lib/python3.11/dist-packages/torch/nn/modules/loss.py:608: UserWarning: Using a target size (torch.Size([45])) that is different to the input size (torch.Size([45, 1])). This will likely lead to incorrect results due to broadcasting. Please ensure they have the same size.\n",
            "  return F.mse_loss(input, target, reduction=self.reduction)\n",
            "/usr/local/lib/python3.11/dist-packages/torch/nn/modules/loss.py:608: UserWarning: Using a target size (torch.Size([45, 68])) that is different to the input size (torch.Size([45, 1])). This will likely lead to incorrect results due to broadcasting. Please ensure they have the same size.\n",
            "  return F.mse_loss(input, target, reduction=self.reduction)\n",
            "/usr/local/lib/python3.11/dist-packages/torch/nn/modules/loss.py:608: UserWarning: Using a target size (torch.Size([41])) that is different to the input size (torch.Size([41, 1])). This will likely lead to incorrect results due to broadcasting. Please ensure they have the same size.\n",
            "  return F.mse_loss(input, target, reduction=self.reduction)\n",
            "/usr/local/lib/python3.11/dist-packages/torch/nn/modules/loss.py:608: UserWarning: Using a target size (torch.Size([41, 68])) that is different to the input size (torch.Size([41, 1])). This will likely lead to incorrect results due to broadcasting. Please ensure they have the same size.\n",
            "  return F.mse_loss(input, target, reduction=self.reduction)\n"
          ]
        },
        {
          "output_type": "stream",
          "name": "stdout",
          "text": [
            "Epoch 1/50, Train Loss: 0.5657, Val Loss: 0.3494\n",
            "Epoch 2/50, Train Loss: 0.4001, Val Loss: 0.3376\n",
            "Epoch 3/50, Train Loss: 0.3838, Val Loss: 0.3218\n",
            "Epoch 4/50, Train Loss: 0.3758, Val Loss: 0.3168\n",
            "Epoch 5/50, Train Loss: 0.3732, Val Loss: 0.3143\n",
            "Epoch 6/50, Train Loss: 0.3719, Val Loss: 0.3141\n",
            "Epoch 7/50, Train Loss: 0.3762, Val Loss: 0.3132\n",
            "Epoch 8/50, Train Loss: 0.3715, Val Loss: 0.3151\n",
            "Epoch 9/50, Train Loss: 0.3696, Val Loss: 0.3128\n",
            "Epoch 10/50, Train Loss: 0.3681, Val Loss: 0.3107\n",
            "Epoch 11/50, Train Loss: 0.3632, Val Loss: 0.3117\n",
            "Epoch 12/50, Train Loss: 0.3698, Val Loss: 0.3124\n",
            "Epoch 13/50, Train Loss: 0.3650, Val Loss: 0.3111\n",
            "Epoch 14/50, Train Loss: 0.3659, Val Loss: 0.3129\n",
            "Epoch 15/50, Train Loss: 0.3694, Val Loss: 0.3114\n",
            "Epoch 16/50, Train Loss: 0.3664, Val Loss: 0.3106\n",
            "Epoch 17/50, Train Loss: 0.3653, Val Loss: 0.3105\n",
            "Epoch 18/50, Train Loss: 0.3599, Val Loss: 0.3100\n",
            "Epoch 19/50, Train Loss: 0.3676, Val Loss: 0.3114\n",
            "Epoch 20/50, Train Loss: 0.3627, Val Loss: 0.3106\n",
            "Epoch 21/50, Train Loss: 0.3610, Val Loss: 0.3118\n",
            "Epoch 22/50, Train Loss: 0.3593, Val Loss: 0.3131\n",
            "Epoch 23/50, Train Loss: 0.3700, Val Loss: 0.3109\n",
            "Epoch 24/50, Train Loss: 0.3669, Val Loss: 0.3100\n",
            "Epoch 25/50, Train Loss: 0.3640, Val Loss: 0.3098\n",
            "Epoch 26/50, Train Loss: 0.3654, Val Loss: 0.3099\n",
            "Epoch 27/50, Train Loss: 0.3633, Val Loss: 0.3097\n",
            "Epoch 28/50, Train Loss: 0.3634, Val Loss: 0.3096\n",
            "Epoch 29/50, Train Loss: 0.3635, Val Loss: 0.3098\n",
            "Epoch 30/50, Train Loss: 0.3690, Val Loss: 0.3098\n",
            "Epoch 31/50, Train Loss: 0.3623, Val Loss: 0.3094\n",
            "Epoch 32/50, Train Loss: 0.3647, Val Loss: 0.3093\n",
            "Epoch 33/50, Train Loss: 0.3625, Val Loss: 0.3092\n",
            "Epoch 34/50, Train Loss: 0.3572, Val Loss: 0.3097\n",
            "Epoch 35/50, Train Loss: 0.3598, Val Loss: 0.3093\n",
            "Epoch 36/50, Train Loss: 0.3624, Val Loss: 0.3093\n",
            "Epoch 37/50, Train Loss: 0.3713, Val Loss: 0.3102\n",
            "Epoch 38/50, Train Loss: 0.3707, Val Loss: 0.3095\n",
            "Epoch 39/50, Train Loss: 0.3680, Val Loss: 0.3091\n",
            "Epoch 40/50, Train Loss: 0.3660, Val Loss: 0.3096\n",
            "Epoch 41/50, Train Loss: 0.3606, Val Loss: 0.3093\n",
            "Epoch 42/50, Train Loss: 0.3664, Val Loss: 0.3091\n",
            "Epoch 43/50, Train Loss: 0.3599, Val Loss: 0.3090\n",
            "Epoch 44/50, Train Loss: 0.3652, Val Loss: 0.3089\n",
            "Epoch 45/50, Train Loss: 0.3565, Val Loss: 0.3096\n",
            "Epoch 46/50, Train Loss: 0.3608, Val Loss: 0.3091\n",
            "Epoch 47/50, Train Loss: 0.3633, Val Loss: 0.3093\n",
            "Epoch 48/50, Train Loss: 0.3613, Val Loss: 0.3096\n",
            "Epoch 49/50, Train Loss: 0.3632, Val Loss: 0.3094\n",
            "Epoch 50/50, Train Loss: 0.3611, Val Loss: 0.3092\n"
          ]
        },
        {
          "output_type": "display_data",
          "data": {
            "text/plain": [
              "<Figure size 1000x600 with 1 Axes>"
            ],
            "image/png": "[encoded data removed]"
          },
          "metadata": {}
        }
      ]
    },
    {
      "cell_type": "code",
      "source": [
        "def test(model, genomic_loader, drug_loader, device):\n",
        "    total_drug_loss = 0\n",
        "    total_genomic_loss = 0\n",
        "    total_batches = 0\n",
        "    model.eval()\n",
        "    with torch.no_grad():\n",
        "        for genomic_batch, drug_batch in zip(genomic_loader, drug_loader):\n",
        "            batch_size = min(genomic_batch.size(0), drug_batch.size(0))\n",
        "            genomic_batch = genomic_batch[:batch_size]\n",
        "            drug_batch = drug_batch[:batch_size]\n",
        "            genomic_batch = genomic_batch.to(device)\n",
        "\n",
        "            if isinstance(drug_batch, Batch):\n",
        "                drug_batch = drug_batch.to(device)\n",
        "            else:\n",
        "                drug_batch = Batch.from_data_list([data for data in drug_batch]).to(device)\n",
        "\n",
        "            drug_pred, genomic_pred = model(drug_batch, genomic_batch)\n",
        "            drug_labels = drug_batch.y\n",
        "            genomic_labels = genomic_batch\n",
        "\n",
        "            drug_loss = drug_criterion(drug_pred, drug_labels)\n",
        "            genomic_loss = genomic_criterion(genomic_pred, genomic_labels)\n",
        "\n",
        "            total_drug_loss += drug_loss.item()\n",
        "            total_genomic_loss += genomic_loss.item()\n",
        "            total_batches += 1\n",
        "\n",
        "            print(f\"Batch {total_batches}:\")\n",
        "            print(\"Drug Loss:\", drug_loss.item())\n",
        "            print(\"Genomic Loss:\", genomic_loss.item())\n",
        "    avg_drug_loss = total_drug_loss / total_batches\n",
        "    avg_genomic_loss = total_genomic_loss / total_batches\n",
        "    print(\"\\nTest Results:\")\n",
        "    print(f\"Average Drug Loss: {avg_drug_loss:.4f}\")\n",
        "    print(f\"Average Genomic Loss: {avg_genomic_loss:.4f}\")\n",
        "\n",
        "test(model, genomic_test_loader, drug_test_loader, device)"
      ],
      "metadata": {
        "colab": {
          "base_uri": "https://localhost:8080/"
        },
        "id": "I2ax_ZBKcMdz",
        "outputId": "078d32da-4f72-417d-dac5-34d2a624bccf"
      },
      "execution_count": null,
      "outputs": [
        {
          "output_type": "stream",
          "name": "stdout",
          "text": [
            "Batch 1:\n",
            "Drug Loss: 0.07730662077665329\n",
            "Genomic Loss: 0.273873895406723\n",
            "Batch 2:\n",
            "Drug Loss: 0.046660441905260086\n",
            "Genomic Loss: 0.2630455791950226\n",
            "\n",
            "Test Results:\n",
            "Average Drug Loss: 0.0620\n",
            "Average Genomic Loss: 0.2685\n"
          ]
        }
      ]
    },
    {
      "cell_type": "markdown",
      "source": [
        "#Save model and data"
      ],
      "metadata": {
        "id": "teCNS3-ccIbO"
      }
    },
    {
      "cell_type": "code",
      "source": [
        "torch.save(model, 'model.pth')"
      ],
      "metadata": {
        "id": "mE24dDdAULg7"
      },
      "execution_count": null,
      "outputs": []
    },
    {
      "cell_type": "code",
      "source": [
        "torch.save(drug_graphs, 'data.pt')"
      ],
      "metadata": {
        "id": "cp7ko-_msutY"
      },
      "execution_count": null,
      "outputs": []
    },
    {
      "cell_type": "markdown",
      "source": [
        "#Prediction"
      ],
      "metadata": {
        "id": "mPoWlaJHcLgT"
      }
    },
    {
      "cell_type": "code",
      "source": [
        "def predict_single_patient(model, patient_genomic_data, drug_graphs, genomic_features, device, drug_data):\n",
        "    patient_data, _ = preprocess_genomic_data(patient_genomic_data, genomic_features)\n",
        "\n",
        "    results = []\n",
        "\n",
        "    model.eval()\n",
        "\n",
        "    with torch.no_grad():\n",
        "        patient_tensor = torch.tensor(patient_data[0], dtype=torch.float).unsqueeze(0).to(device)\n",
        "        for idx, drug_graph in enumerate(drug_graphs):\n",
        "            drug_batch = Batch.from_data_list([drug_graph]).to(device)\n",
        "            drug_pred, genomic_pred = model(drug_batch, patient_tensor)\n",
        "\n",
        "            compatibility_score = round(torch.tanh(drug_pred).item(), 3)\n",
        "            toxicity_score = round(torch.tanh(genomic_pred).item(), 3)\n",
        "\n",
        "            confidence_score = round((abs(compatibility_score) + abs(toxicity_score)) / 2, 3)\n",
        "\n",
        "            normalized_toxicity = round(-toxicity_score, 3)\n",
        "\n",
        "            overall_score = round(\n",
        "                compatibility_score * 0.4 +\n",
        "                normalized_toxicity * 0.3 +\n",
        "                confidence_score * 0.3, 3\n",
        "            )\n",
        "\n",
        "            recommended = (compatibility_score > 0.03) and (toxicity_score < -0.03)\n",
        "\n",
        "            results.append({\n",
        "                'drug_id': idx,\n",
        "                'drug_name': drug_data.iloc[idx]['SMILES'],\n",
        "                'compatibility_score': compatibility_score,\n",
        "                'toxicity_score': toxicity_score,\n",
        "                'confidence_score': confidence_score,\n",
        "                'overall_score': overall_score,\n",
        "                'recommended': recommended\n",
        "            })\n",
        "\n",
        "    results_df = pd.DataFrame(results)\n",
        "\n",
        "    recommended = results_df[results_df['recommended']].nlargest(5, 'overall_score')\n",
        "\n",
        "    avoid = results_df[~results_df['recommended']].nlargest(5, 'overall_score')\n",
        "\n",
        "    combined_json = {\n",
        "        \"drug_analysis\": {\n",
        "            \"best\": recommended.to_dict(orient='records'),\n",
        "            \"worst\": avoid.to_dict(orient='records')\n",
        "        }\n",
        "    }\n",
        "\n",
        "    print(\"\\n=== TOP 5 RECOMMENDED DRUGS ===\")\n",
        "    print(\"--------------------------------\")\n",
        "    for _, drug in recommended.iterrows():\n",
        "        print(f\"Drug ID: {drug['drug_id']}\")\n",
        "        print(f\"SMILES: {drug['drug_name']}\")\n",
        "        print(f\"Compatibility Score: {drug['compatibility_score']:.3f} (-1 to 1)\")\n",
        "        print(f\"Toxicity Score: {drug['toxicity_score']:.3f} (-1 to 1)\")\n",
        "        print(f\"Confidence Score: {drug['confidence_score']:.3f} (0 to 1)\")\n",
        "        print(f\"Overall Score: {drug['overall_score']:.3f}\")\n",
        "        print(\"--------------------------------\")\n",
        "    print()\n",
        "\n",
        "    print(\"\\n=== TOP 5 DRUGS TO AVOID ===\")\n",
        "    print(\"--------------------------------\")\n",
        "    for _, drug in avoid.iterrows():\n",
        "        print(f\"Drug ID: {drug['drug_id']}\")\n",
        "        print(f\"SMILES: {drug['drug_name']}\")\n",
        "        print(f\"Compatibility Score: {drug['compatibility_score']:.3f} (-1 to 1)\")\n",
        "        print(f\"Toxicity Score: {drug['toxicity_score']:.3f} (-1 to 1)\")\n",
        "        print(f\"Confidence Score: {drug['confidence_score']:.3f} (0 to 1)\")\n",
        "        print(f\"Overall Score: {drug['overall_score']:.3f}\")\n",
        "        print(\"--------------------------------\")\n",
        "    print()\n",
        "\n",
        "    return combined_json"
      ],
      "metadata": {
        "id": "y4UQ2_baQhJU"
      },
      "execution_count": null,
      "outputs": []
    },
    {
      "cell_type": "code",
      "source": [
        "model = torch.load('/content/drive/MyDrive/hackwar/model.pth')\n",
        "device = torch.device(\"cuda\" if torch.cuda.is_available() else \"cpu\")\n",
        "model.to(device)\n",
        "model.eval()\n",
        "loaded_data = torch.load('data.pt')\n",
        "\n",
        "patient_file = \"/content/drive/MyDrive/hackwar/test.csv\"\n",
        "\n",
        "drug_database = \"/content/drive/MyDrive/hackwar/drug_data.csv\"\n",
        "drug_data = pd.read_csv(drug_database)\n",
        "\n",
        "output = predict_single_patient(\n",
        "    model=model,\n",
        "    patient_genomic_data=patient_file,\n",
        "    drug_graphs=loaded_data,\n",
        "    genomic_features=genomic_features,\n",
        "    device=device,\n",
        "    drug_data=drug_data\n",
        ")"
      ],
      "metadata": {
        "colab": {
          "base_uri": "https://localhost:8080/"
        },
        "id": "r4B4Q1wrQlJF",
        "outputId": "be7cfe3a-fbcc-42e6-c37d-667fe2b132e4"
      },
      "execution_count": null,
      "outputs": [
        {
          "output_type": "stream",
          "name": "stderr",
          "text": [
            "<ipython-input-31-a98afc502980>:1: FutureWarning: You are using `torch.load` with `weights_only=False` (the current default value), which uses the default pickle module implicitly. It is possible to construct malicious pickle data which will execute arbitrary code during unpickling (See https://github.com/pytorch/pytorch/blob/main/SECURITY.md#untrusted-models for more details). In a future release, the default value for `weights_only` will be flipped to `True`. This limits the functions that could be executed during unpickling. Arbitrary objects will no longer be allowed to be loaded via this mode unless they are explicitly allowlisted by the user via `torch.serialization.add_safe_globals`. We recommend you start setting `weights_only=True` for any use case where you don't have full control of the loaded file. Please open an issue on GitHub for any issues related to this experimental feature.\n",
            "  model = torch.load('/content/drive/MyDrive/hackwar/model.pth')\n",
            "<ipython-input-31-a98afc502980>:5: FutureWarning: You are using `torch.load` with `weights_only=False` (the current default value), which uses the default pickle module implicitly. It is possible to construct malicious pickle data which will execute arbitrary code during unpickling (See https://github.com/pytorch/pytorch/blob/main/SECURITY.md#untrusted-models for more details). In a future release, the default value for `weights_only` will be flipped to `True`. This limits the functions that could be executed during unpickling. Arbitrary objects will no longer be allowed to be loaded via this mode unless they are explicitly allowlisted by the user via `torch.serialization.add_safe_globals`. We recommend you start setting `weights_only=True` for any use case where you don't have full control of the loaded file. Please open an issue on GitHub for any issues related to this experimental feature.\n",
            "  loaded_data = torch.load('data.pt')\n"
          ]
        },
        {
          "output_type": "stream",
          "name": "stdout",
          "text": [
            "\n",
            "=== TOP 5 RECOMMENDED DRUGS ===\n",
            "--------------------------------\n",
            "Drug ID: 15051\n",
            "SMILES: CCCCCI\n",
            "Compatibility Score: 0.096 (-1 to 1)\n",
            "Toxicity Score: -0.087 (-1 to 1)\n",
            "Confidence Score: 0.091 (0 to 1)\n",
            "Overall Score: 0.092\n",
            "--------------------------------\n",
            "Drug ID: 3366\n",
            "SMILES: O=C(O)c1cc(I)cc(I)c1O\n",
            "Compatibility Score: 0.097 (-1 to 1)\n",
            "Toxicity Score: -0.084 (-1 to 1)\n",
            "Confidence Score: 0.090 (0 to 1)\n",
            "Overall Score: 0.091\n",
            "--------------------------------\n",
            "Drug ID: 4003\n",
            "SMILES: Nc1ccc(I)cc1\n",
            "Compatibility Score: 0.097 (-1 to 1)\n",
            "Toxicity Score: -0.083 (-1 to 1)\n",
            "Confidence Score: 0.090 (0 to 1)\n",
            "Overall Score: 0.091\n",
            "--------------------------------\n",
            "Drug ID: 4468\n",
            "SMILES: Nc1cccc(I)c1\n",
            "Compatibility Score: 0.097 (-1 to 1)\n",
            "Toxicity Score: -0.083 (-1 to 1)\n",
            "Confidence Score: 0.090 (0 to 1)\n",
            "Overall Score: 0.091\n",
            "--------------------------------\n",
            "Drug ID: 4469\n",
            "SMILES: Oc1cccc(I)c1\n",
            "Compatibility Score: 0.097 (-1 to 1)\n",
            "Toxicity Score: -0.083 (-1 to 1)\n",
            "Confidence Score: 0.090 (0 to 1)\n",
            "Overall Score: 0.091\n",
            "--------------------------------\n",
            "\n",
            "\n",
            "=== TOP 5 DRUGS TO AVOID ===\n",
            "--------------------------------\n",
            "Drug ID: 2191\n",
            "SMILES: ClC(Cl)(Cl)C(Cl)(Cl)Cl\n",
            "Compatibility Score: 0.098 (-1 to 1)\n",
            "Toxicity Score: -0.030 (-1 to 1)\n",
            "Confidence Score: 0.064 (0 to 1)\n",
            "Overall Score: 0.067\n",
            "--------------------------------\n",
            "Drug ID: 2246\n",
            "SMILES: CCI\n",
            "Compatibility Score: 0.098 (-1 to 1)\n",
            "Toxicity Score: -0.028 (-1 to 1)\n",
            "Confidence Score: 0.063 (0 to 1)\n",
            "Overall Score: 0.067\n",
            "--------------------------------\n",
            "Drug ID: 2259\n",
            "SMILES: ClC(Cl)Br\n",
            "Compatibility Score: 0.098 (-1 to 1)\n",
            "Toxicity Score: -0.030 (-1 to 1)\n",
            "Confidence Score: 0.064 (0 to 1)\n",
            "Overall Score: 0.067\n",
            "--------------------------------\n",
            "Drug ID: 5868\n",
            "SMILES: Brc1ccsc1Br\n",
            "Compatibility Score: 0.098 (-1 to 1)\n",
            "Toxicity Score: -0.027 (-1 to 1)\n",
            "Confidence Score: 0.062 (0 to 1)\n",
            "Overall Score: 0.066\n",
            "--------------------------------\n",
            "Drug ID: 6864\n",
            "SMILES: N#CC(Br)(Br)C(N)=O\n",
            "Compatibility Score: 0.098 (-1 to 1)\n",
            "Toxicity Score: -0.027 (-1 to 1)\n",
            "Confidence Score: 0.062 (0 to 1)\n",
            "Overall Score: 0.066\n",
            "--------------------------------\n",
            "\n"
          ]
        }
      ]
    },
    {
      "cell_type": "code",
      "source": [
        "print(json.dumps(output, indent=4))"
      ],
      "metadata": {
        "colab": {
          "base_uri": "https://localhost:8080/"
        },
        "id": "olo7xOKrdEWe",
        "outputId": "1c6720d8-2623-4610-ace4-5cf2e49aaa4c"
      },
      "execution_count": null,
      "outputs": [
        {
          "output_type": "stream",
          "name": "stdout",
          "text": [
            "{\n",
            "    \"drug_analysis\": {\n",
            "        \"best\": [\n",
            "            {\n",
            "                \"drug_id\": 15051,\n",
            "                \"drug_name\": \"CCCCCI\",\n",
            "                \"compatibility_score\": 0.096,\n",
            "                \"toxicity_score\": -0.087,\n",
            "                \"confidence_score\": 0.091,\n",
            "                \"overall_score\": 0.092,\n",
            "                \"recommended\": true\n",
            "            },\n",
            "            {\n",
            "                \"drug_id\": 3366,\n",
            "                \"drug_name\": \"O=C(O)c1cc(I)cc(I)c1O\",\n",
            "                \"compatibility_score\": 0.097,\n",
            "                \"toxicity_score\": -0.084,\n",
            "                \"confidence_score\": 0.09,\n",
            "                \"overall_score\": 0.091,\n",
            "                \"recommended\": true\n",
            "            },\n",
            "            {\n",
            "                \"drug_id\": 4003,\n",
            "                \"drug_name\": \"Nc1ccc(I)cc1\",\n",
            "                \"compatibility_score\": 0.097,\n",
            "                \"toxicity_score\": -0.083,\n",
            "                \"confidence_score\": 0.09,\n",
            "                \"overall_score\": 0.091,\n",
            "                \"recommended\": true\n",
            "            },\n",
            "            {\n",
            "                \"drug_id\": 4468,\n",
            "                \"drug_name\": \"Nc1cccc(I)c1\",\n",
            "                \"compatibility_score\": 0.097,\n",
            "                \"toxicity_score\": -0.083,\n",
            "                \"confidence_score\": 0.09,\n",
            "                \"overall_score\": 0.091,\n",
            "                \"recommended\": true\n",
            "            },\n",
            "            {\n",
            "                \"drug_id\": 4469,\n",
            "                \"drug_name\": \"Oc1cccc(I)c1\",\n",
            "                \"compatibility_score\": 0.097,\n",
            "                \"toxicity_score\": -0.083,\n",
            "                \"confidence_score\": 0.09,\n",
            "                \"overall_score\": 0.091,\n",
            "                \"recommended\": true\n",
            "            }\n",
            "        ],\n",
            "        \"worst\": [\n",
            "            {\n",
            "                \"drug_id\": 2191,\n",
            "                \"drug_name\": \"ClC(Cl)(Cl)C(Cl)(Cl)Cl\",\n",
            "                \"compatibility_score\": 0.098,\n",
            "                \"toxicity_score\": -0.03,\n",
            "                \"confidence_score\": 0.064,\n",
            "                \"overall_score\": 0.067,\n",
            "                \"recommended\": false\n",
            "            },\n",
            "            {\n",
            "                \"drug_id\": 2246,\n",
            "                \"drug_name\": \"CCI\",\n",
            "                \"compatibility_score\": 0.098,\n",
            "                \"toxicity_score\": -0.028,\n",
            "                \"confidence_score\": 0.063,\n",
            "                \"overall_score\": 0.067,\n",
            "                \"recommended\": false\n",
            "            },\n",
            "            {\n",
            "                \"drug_id\": 2259,\n",
            "                \"drug_name\": \"ClC(Cl)Br\",\n",
            "                \"compatibility_score\": 0.098,\n",
            "                \"toxicity_score\": -0.03,\n",
            "                \"confidence_score\": 0.064,\n",
            "                \"overall_score\": 0.067,\n",
            "                \"recommended\": false\n",
            "            },\n",
            "            {\n",
            "                \"drug_id\": 5868,\n",
            "                \"drug_name\": \"Brc1ccsc1Br\",\n",
            "                \"compatibility_score\": 0.098,\n",
            "                \"toxicity_score\": -0.027,\n",
            "                \"confidence_score\": 0.062,\n",
            "                \"overall_score\": 0.066,\n",
            "                \"recommended\": false\n",
            "            },\n",
            "            {\n",
            "                \"drug_id\": 6864,\n",
            "                \"drug_name\": \"N#CC(Br)(Br)C(N)=O\",\n",
            "                \"compatibility_score\": 0.098,\n",
            "                \"toxicity_score\": -0.027,\n",
            "                \"confidence_score\": 0.062,\n",
            "                \"overall_score\": 0.066,\n",
            "                \"recommended\": false\n",
            "            }\n",
            "        ]\n",
            "    }\n",
            "}\n"
          ]
        }
      ]
    },
    {
      "cell_type": "code",
      "source": [],
      "metadata": {
        "id": "40lVYyZYePHv"
      },
      "execution_count": null,
      "outputs": []
    }
  ]
}